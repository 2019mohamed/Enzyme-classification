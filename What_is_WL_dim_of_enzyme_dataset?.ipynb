{
  "nbformat": 4,
  "nbformat_minor": 0,
  "metadata": {
    "colab": {
      "name": "What is WL-dim of enzyme dataset?.ipynb",
      "provenance": [],
      "authorship_tag": "ABX9TyOU/gjpGeTSUiwI0Mq9NXUq",
      "include_colab_link": true
    },
    "kernelspec": {
      "name": "python3",
      "display_name": "Python 3"
    },
    "language_info": {
      "name": "python"
    }
  },
  "cells": [
    {
      "cell_type": "markdown",
      "metadata": {
        "id": "view-in-github",
        "colab_type": "text"
      },
      "source": [
        "<a href=\"https://colab.research.google.com/github/2019mohamed/Enzyme-classification/blob/master/What_is_WL_dim_of_enzyme_dataset%3F.ipynb\" target=\"_parent\"><img src=\"https://colab.research.google.com/assets/colab-badge.svg\" alt=\"Open In Colab\"/></a>"
      ]
    },
    {
      "cell_type": "code",
      "metadata": {
        "colab": {
          "base_uri": "https://localhost:8080/"
        },
        "id": "1n-t8BrOnXT-",
        "outputId": "5b97d47e-e769-4d10-e235-608698ef0aa0"
      },
      "source": [
        "pip install dgl"
      ],
      "execution_count": 1,
      "outputs": [
        {
          "output_type": "stream",
          "text": [
            "Collecting dgl\n",
            "\u001b[?25l  Downloading https://files.pythonhosted.org/packages/71/c4/ce24841375cf4393787dbf9a645e271c19a03d2d9a0e5770b08ba76bcfde/dgl-0.6.1-cp37-cp37m-manylinux1_x86_64.whl (4.4MB)\n",
            "\u001b[K     |████████████████████████████████| 4.4MB 9.1MB/s \n",
            "\u001b[?25hRequirement already satisfied: scipy>=1.1.0 in /usr/local/lib/python3.7/dist-packages (from dgl) (1.4.1)\n",
            "Requirement already satisfied: requests>=2.19.0 in /usr/local/lib/python3.7/dist-packages (from dgl) (2.23.0)\n",
            "Requirement already satisfied: networkx>=2.1 in /usr/local/lib/python3.7/dist-packages (from dgl) (2.5.1)\n",
            "Requirement already satisfied: numpy>=1.14.0 in /usr/local/lib/python3.7/dist-packages (from dgl) (1.19.5)\n",
            "Requirement already satisfied: idna<3,>=2.5 in /usr/local/lib/python3.7/dist-packages (from requests>=2.19.0->dgl) (2.10)\n",
            "Requirement already satisfied: chardet<4,>=3.0.2 in /usr/local/lib/python3.7/dist-packages (from requests>=2.19.0->dgl) (3.0.4)\n",
            "Requirement already satisfied: certifi>=2017.4.17 in /usr/local/lib/python3.7/dist-packages (from requests>=2.19.0->dgl) (2020.12.5)\n",
            "Requirement already satisfied: urllib3!=1.25.0,!=1.25.1,<1.26,>=1.21.1 in /usr/local/lib/python3.7/dist-packages (from requests>=2.19.0->dgl) (1.24.3)\n",
            "Requirement already satisfied: decorator<5,>=4.3 in /usr/local/lib/python3.7/dist-packages (from networkx>=2.1->dgl) (4.4.2)\n",
            "Installing collected packages: dgl\n",
            "Successfully installed dgl-0.6.1\n"
          ],
          "name": "stdout"
        }
      ]
    },
    {
      "cell_type": "code",
      "metadata": {
        "colab": {
          "base_uri": "https://localhost:8080/"
        },
        "id": "5g4E4NcCnkkN",
        "outputId": "3de4312b-e5aa-48b3-cdcb-bea64fdbd272"
      },
      "source": [
        "import networkx.algorithms.approximation.treewidth as tw\n",
        "from dgl.data import GINDataset\n",
        "dataset = GINDataset(name='PROTEINS', self_loop=True)\n",
        "\n",
        "\n",
        "print(\"Theorem: WL dim of graph <= TreeWidth number\")\n",
        "Tree_width_number1 = 0\n",
        "Tree_width_number2 = 0\n",
        "for data in dataset:\n",
        "  g = data[0]\n",
        "  g = g.to_networkx().to_undirected()\n",
        "  g = nx.Graph(g)\n",
        "  Tree_width_number1 = max(Tree_width_number1 , tw.treewidth_min_degree(g)[0])\n",
        "  Tree_width_number2 = max(Tree_width_number2 , tw.treewidth_min_fill_in(g)[0])\n",
        "\n",
        "\n",
        "print(\"TreeWidthNumber1 : \",Tree_width_number1,\" TreeWidthNumber2 : \",Tree_width_number2)\n",
        "\n",
        "\n"
      ],
      "execution_count": 13,
      "outputs": [
        {
          "output_type": "stream",
          "text": [
            "Theorem: WL dim of graph <= TreeWidth number\n",
            "TreeWidthNumber1 :  619  TreeWidthNumber2 :  17\n"
          ],
          "name": "stdout"
        }
      ]
    }
  ]
}