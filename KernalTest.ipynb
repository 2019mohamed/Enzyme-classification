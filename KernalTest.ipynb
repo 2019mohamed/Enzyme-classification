{
  "nbformat": 4,
  "nbformat_minor": 0,
  "metadata": {
    "colab": {
      "name": "KernalTest.ipynb",
      "provenance": [],
      "collapsed_sections": [],
      "mount_file_id": "1ZYxn5T6WpcKsH1cGjDTq9gyhvb8wtPVp",
      "authorship_tag": "ABX9TyMog6OKH5jKx9J8NeAIFyit",
      "include_colab_link": true
    },
    "kernelspec": {
      "display_name": "Python 3",
      "name": "python3"
    }
  },
  "cells": [
    {
      "cell_type": "markdown",
      "metadata": {
        "id": "view-in-github",
        "colab_type": "text"
      },
      "source": [
        "<a href=\"https://colab.research.google.com/github/2019mohamed/Enzyme-classification/blob/master/KernalTest.ipynb\" target=\"_parent\"><img src=\"https://colab.research.google.com/assets/colab-badge.svg\" alt=\"Open In Colab\"/></a>"
      ]
    },
    {
      "cell_type": "code",
      "metadata": {
        "colab": {
          "base_uri": "https://localhost:8080/"
        },
        "id": "ACblYAwjzFrO",
        "outputId": "7ad34bf2-b330-4eb2-b9ef-9c88a302a579"
      },
      "source": [
        "pip install grakel"
      ],
      "execution_count": null,
      "outputs": [
        {
          "output_type": "stream",
          "text": [
            "Collecting grakel\n",
            "\u001b[?25l  Downloading https://files.pythonhosted.org/packages/36/c0/89ad5326d4a75f5abe9a6a7a7d28988e5b51692d9902239f56e43c296ae0/grakel-0.1.8-cp37-cp37m-manylinux2010_x86_64.whl (1.6MB)\n",
            "\u001b[K     |████████████████████████████████| 1.6MB 3.8MB/s \n",
            "\u001b[?25hRequirement already satisfied: six>=1.11.0 in /usr/local/lib/python3.7/dist-packages (from grakel) (1.15.0)\n",
            "Requirement already satisfied: joblib in /usr/local/lib/python3.7/dist-packages (from grakel) (1.0.1)\n",
            "Requirement already satisfied: cython>=0.27.3 in /usr/local/lib/python3.7/dist-packages (from grakel) (0.29.23)\n",
            "Requirement already satisfied: numpy>=1.14.0 in /usr/local/lib/python3.7/dist-packages (from grakel) (1.19.5)\n",
            "Collecting nose>=1.1.2\n",
            "\u001b[?25l  Downloading https://files.pythonhosted.org/packages/15/d8/dd071918c040f50fa1cf80da16423af51ff8ce4a0f2399b7bf8de45ac3d9/nose-1.3.7-py3-none-any.whl (154kB)\n",
            "\u001b[K     |████████████████████████████████| 163kB 12.1MB/s \n",
            "\u001b[?25hRequirement already satisfied: scikit-learn>=0.19 in /usr/local/lib/python3.7/dist-packages (from grakel) (0.22.2.post1)\n",
            "Requirement already satisfied: future>=0.16.0 in /usr/local/lib/python3.7/dist-packages (from grakel) (0.16.0)\n",
            "Requirement already satisfied: scipy>=0.17.0 in /usr/local/lib/python3.7/dist-packages (from scikit-learn>=0.19->grakel) (1.4.1)\n",
            "Installing collected packages: nose, grakel\n",
            "Successfully installed grakel-0.1.8 nose-1.3.7\n"
          ],
          "name": "stdout"
        }
      ]
    },
    {
      "cell_type": "code",
      "metadata": {
        "colab": {
          "base_uri": "https://localhost:8080/"
        },
        "id": "Sd8tKi7xWBoV",
        "outputId": "5a84a9fb-3ec0-4364-a7f0-f00bbeeb6c2f"
      },
      "source": [
        "import sys\n",
        "import os\n",
        "import requests\n",
        "import subprocess\n",
        "import shutil\n",
        "from logging import getLogger, StreamHandler, INFO\n",
        "\n",
        "\n",
        "logger = getLogger(__name__)\n",
        "logger.addHandler(StreamHandler())\n",
        "logger.setLevel(INFO)\n",
        "\n",
        "\n",
        "def install(\n",
        "        chunk_size=4096,\n",
        "        file_name=\"Miniconda3-latest-Linux-x86_64.sh\",\n",
        "        url_base=\"https://repo.continuum.io/miniconda/\",\n",
        "        conda_path=os.path.expanduser(os.path.join(\"~\", \"miniconda\")),\n",
        "        rdkit_version=None,\n",
        "        add_python_path=True,\n",
        "        force=False):\n",
        "    \"\"\"install rdkit from miniconda\n",
        "    ```\n",
        "    import rdkit_installer\n",
        "    rdkit_installer.install()\n",
        "    ```\n",
        "    \"\"\"\n",
        "\n",
        "    python_path = os.path.join(\n",
        "        conda_path,\n",
        "        \"lib\",\n",
        "        \"python{0}.{1}\".format(*sys.version_info),\n",
        "        \"site-packages\",\n",
        "    )\n",
        "\n",
        "    if add_python_path and python_path not in sys.path:\n",
        "        logger.info(\"add {} to PYTHONPATH\".format(python_path))\n",
        "        sys.path.append(python_path)\n",
        "\n",
        "    if os.path.isdir(os.path.join(python_path, \"rdkit\")):\n",
        "        logger.info(\"rdkit is already installed\")\n",
        "        if not force:\n",
        "            return\n",
        "\n",
        "        logger.info(\"force re-install\")\n",
        "\n",
        "    url = url_base + file_name\n",
        "    python_version = \"{0}.{1}.{2}\".format(*sys.version_info)\n",
        "\n",
        "    logger.info(\"python version: {}\".format(python_version))\n",
        "\n",
        "    if os.path.isdir(conda_path):\n",
        "        logger.warning(\"remove current miniconda\")\n",
        "        shutil.rmtree(conda_path)\n",
        "    elif os.path.isfile(conda_path):\n",
        "        logger.warning(\"remove {}\".format(conda_path))\n",
        "        os.remove(conda_path)\n",
        "\n",
        "    logger.info('fetching installer from {}'.format(url))\n",
        "    res = requests.get(url, stream=True)\n",
        "    res.raise_for_status()\n",
        "    with open(file_name, 'wb') as f:\n",
        "        for chunk in res.iter_content(chunk_size):\n",
        "            f.write(chunk)\n",
        "    logger.info('done')\n",
        "\n",
        "    logger.info('installing miniconda to {}'.format(conda_path))\n",
        "    subprocess.check_call([\"bash\", file_name, \"-b\", \"-p\", conda_path])\n",
        "    logger.info('done')\n",
        "\n",
        "    logger.info(\"installing rdkit\")\n",
        "    subprocess.check_call([\n",
        "        os.path.join(conda_path, \"bin\", \"conda\"),\n",
        "        \"install\",\n",
        "        \"--yes\",\n",
        "        \"-c\", \"rdkit\",\n",
        "        \"python=={}\".format(python_version),\n",
        "        \"rdkit\" if rdkit_version is None else \"rdkit=={}\".format(rdkit_version)])\n",
        "    logger.info(\"done\")\n",
        "\n",
        "    import rdkit\n",
        "    logger.info(\"rdkit-{} installation finished!\".format(rdkit.__version__))\n",
        "\n",
        "\n",
        "if __name__ == \"__main__\":\n",
        "    install()"
      ],
      "execution_count": null,
      "outputs": [
        {
          "output_type": "stream",
          "text": [
            "add /root/miniconda/lib/python3.7/site-packages to PYTHONPATH\n",
            "python version: 3.7.10\n",
            "fetching installer from https://repo.continuum.io/miniconda/Miniconda3-latest-Linux-x86_64.sh\n",
            "done\n",
            "installing miniconda to /root/miniconda\n",
            "done\n",
            "installing rdkit\n",
            "done\n",
            "rdkit-2020.09.1 installation finished!\n"
          ],
          "name": "stderr"
        }
      ]
    },
    {
      "cell_type": "code",
      "metadata": {
        "colab": {
          "base_uri": "https://localhost:8080/",
          "height": 469
        },
        "id": "Ty06NmS0WlUe",
        "outputId": "ddd1d6c6-4e38-41c6-c835-2168ebb00dac"
      },
      "source": [
        "from rdkit import Chem\n",
        "from rdkit.Chem import rdMolDescriptors\n",
        "from rdkit.Chem.Draw import IPythonConsole\n",
        "from rdkit.Chem import Draw\n",
        "import networkx as nx\n",
        "import matplotlib.pyplot as plt\n",
        "\n",
        "#\"N[C@@H](CCC(=O)N[C@@H](CS)C(=O)NCC(=O)O)C(=O)O\"\n",
        "#smile = 'COc(c1)cccc1C#N'\n",
        "smile = 'O=C(O)[C@H]1N(C(=O)[C@H](C)CS)CCC1'\n",
        "mol = Chem.MolFromSmiles(smile)\n",
        "\n",
        "\n",
        "def mol_to_nx(mol):\n",
        "    G = nx.Graph()\n",
        "\n",
        "    for atom in mol.GetAtoms():\n",
        "        G.add_node(atom.GetIdx(),\n",
        "                   atomic_num=atom.GetAtomicNum(),\n",
        "                   formal_charge=atom.GetFormalCharge(),\n",
        "                   chiral_tag=atom.GetChiralTag(),\n",
        "                   hybridization=atom.GetHybridization(),\n",
        "                   num_explicit_hs=atom.GetNumExplicitHs(),\n",
        "                   is_aromatic=atom.GetIsAromatic())\n",
        "    for bond in mol.GetBonds():\n",
        "        G.add_edge(bond.GetBeginAtomIdx(),\n",
        "                   bond.GetEndAtomIdx(),\n",
        "                   bond_type=bond.GetBondType())\n",
        "    return G\n",
        "\n",
        "g = mol_to_nx(mol)\n",
        "nx.draw_kamada_kawai(g)\n",
        "\n",
        "mol\n",
        "\n"
      ],
      "execution_count": null,
      "outputs": [
        {
          "output_type": "execute_result",
          "data": {
            "image/png": "[encoded data removed]",
            "text/plain": [
              "<rdkit.Chem.rdchem.Mol at 0x7f62029d8e90>"
            ]
          },
          "metadata": {
            "tags": []
          },
          "execution_count": 64
        },
        {
          "output_type": "display_data",
          "data": {
            "image/png": "[encoded data removed]",
            "text/plain": [
              "<Figure size 432x288 with 1 Axes>"
            ]
          },
          "metadata": {
            "tags": []
          }
        }
      ]
    },
    {
      "cell_type": "code",
      "metadata": {
        "id": "qonugj2_VrBo",
        "colab": {
          "base_uri": "https://localhost:8080/"
        },
        "outputId": "862a5348-114f-4834-8881-fc59e6c125a2"
      },
      "source": [
        "import numpy as np\n",
        "import networkx as nx\n",
        "from sklearn.model_selection import train_test_split\n",
        "from sklearn.svm import SVC\n",
        "from sklearn.metrics import accuracy_score\n",
        "from grakel.utils import graph_from_networkx\n",
        "from grakel.datasets import fetch_dataset, get_dataset_info\n",
        "from grakel.kernels import ShortestPath, WeisfeilerLehman, LovaszTheta\n",
        "import pickle\n",
        "\n",
        "MUTAG = fetch_dataset(\"PROTEINS\", verbose=False)\n",
        "G, y = MUTAG.data, MUTAG.target\n",
        "\n",
        "G_train, G_test, y_train, y_test = train_test_split(G, y, test_size=0.3, random_state=42)\n",
        "gk = WeisfeilerLehman(normalize=True)\n",
        "#filename = 'GraphKernalModel.sav'\n",
        "K_train = gk.fit_transform(G_train)\n",
        "#K_test = gk.fit_transform(G_test)\n",
        "\n",
        "clf = SVC(kernel=\"precomputed\")\n",
        "clf.fit(K_train, y_train)\n",
        "#clf.fit(K_test, y_test)\n",
        "\n",
        "'''\n",
        "pickle.dump(clf, open(filename, 'wb'))\n",
        "'''\n",
        "#g = nx.generators.fast_gnp_random_graph(48,0.7)\n",
        "nx.set_node_attributes(g, {i : '0' for i in list(g)}, 'label')\n",
        "G_nx = [g]\n",
        "G = graph_from_networkx(G_nx , node_labels_tag= 'label')\n",
        "K_test = gk.transform(G)\n",
        "#loaded_model = pickle.load(open(filename, 'rb'))\n",
        "y_pred = clf.predict(K_test)\n",
        "print(list(y_pred))\n",
        "#acc = accuracy_score(y_test, y_pred)\n",
        "#print(\"Accuracy:\", str(round(acc*100, 2)) + \"%\")\n",
        "\n",
        "\n"
      ],
      "execution_count": null,
      "outputs": [
        {
          "output_type": "stream",
          "text": [
            "[2]\n"
          ],
          "name": "stdout"
        }
      ]
    }
  ]
}